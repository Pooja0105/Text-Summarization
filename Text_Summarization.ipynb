{
  "nbformat": 4,
  "nbformat_minor": 0,
  "metadata": {
    "colab": {
      "name": "Text Summarization.ipynb",
      "provenance": [],
      "collapsed_sections": []
    },
    "kernelspec": {
      "name": "python3",
      "display_name": "Python 3"
    }
  },
  "cells": [
    {
      "cell_type": "code",
      "metadata": {
        "id": "KWSorr3kYz66"
      },
      "source": [
        "import numpy as np"
      ],
      "execution_count": null,
      "outputs": []
    },
    {
      "cell_type": "code",
      "metadata": {
        "colab": {
          "base_uri": "https://localhost:8080/"
        },
        "id": "L5f4km61Y9s4",
        "outputId": "e5b4ed73-dcaf-488f-b77f-9bccaaecc1f6"
      },
      "source": [
        "!pip install spacy"
      ],
      "execution_count": null,
      "outputs": [
        {
          "output_type": "stream",
          "text": [
            "Requirement already satisfied: spacy in /usr/local/lib/python3.7/dist-packages (2.2.4)\n",
            "Requirement already satisfied: plac<1.2.0,>=0.9.6 in /usr/local/lib/python3.7/dist-packages (from spacy) (1.1.3)\n",
            "Requirement already satisfied: wasabi<1.1.0,>=0.4.0 in /usr/local/lib/python3.7/dist-packages (from spacy) (0.8.2)\n",
            "Requirement already satisfied: cymem<2.1.0,>=2.0.2 in /usr/local/lib/python3.7/dist-packages (from spacy) (2.0.5)\n",
            "Requirement already satisfied: requests<3.0.0,>=2.13.0 in /usr/local/lib/python3.7/dist-packages (from spacy) (2.23.0)\n",
            "Requirement already satisfied: preshed<3.1.0,>=3.0.2 in /usr/local/lib/python3.7/dist-packages (from spacy) (3.0.5)\n",
            "Requirement already satisfied: thinc==7.4.0 in /usr/local/lib/python3.7/dist-packages (from spacy) (7.4.0)\n",
            "Requirement already satisfied: tqdm<5.0.0,>=4.38.0 in /usr/local/lib/python3.7/dist-packages (from spacy) (4.41.1)\n",
            "Requirement already satisfied: catalogue<1.1.0,>=0.0.7 in /usr/local/lib/python3.7/dist-packages (from spacy) (1.0.0)\n",
            "Requirement already satisfied: murmurhash<1.1.0,>=0.28.0 in /usr/local/lib/python3.7/dist-packages (from spacy) (1.0.5)\n",
            "Requirement already satisfied: setuptools in /usr/local/lib/python3.7/dist-packages (from spacy) (54.0.0)\n",
            "Requirement already satisfied: blis<0.5.0,>=0.4.0 in /usr/local/lib/python3.7/dist-packages (from spacy) (0.4.1)\n",
            "Requirement already satisfied: numpy>=1.15.0 in /usr/local/lib/python3.7/dist-packages (from spacy) (1.19.5)\n",
            "Requirement already satisfied: srsly<1.1.0,>=1.0.2 in /usr/local/lib/python3.7/dist-packages (from spacy) (1.0.5)\n",
            "Requirement already satisfied: certifi>=2017.4.17 in /usr/local/lib/python3.7/dist-packages (from requests<3.0.0,>=2.13.0->spacy) (2020.12.5)\n",
            "Requirement already satisfied: chardet<4,>=3.0.2 in /usr/local/lib/python3.7/dist-packages (from requests<3.0.0,>=2.13.0->spacy) (3.0.4)\n",
            "Requirement already satisfied: idna<3,>=2.5 in /usr/local/lib/python3.7/dist-packages (from requests<3.0.0,>=2.13.0->spacy) (2.10)\n",
            "Requirement already satisfied: urllib3!=1.25.0,!=1.25.1,<1.26,>=1.21.1 in /usr/local/lib/python3.7/dist-packages (from requests<3.0.0,>=2.13.0->spacy) (1.24.3)\n",
            "Requirement already satisfied: importlib-metadata>=0.20; python_version < \"3.8\" in /usr/local/lib/python3.7/dist-packages (from catalogue<1.1.0,>=0.0.7->spacy) (3.7.0)\n",
            "Requirement already satisfied: zipp>=0.5 in /usr/local/lib/python3.7/dist-packages (from importlib-metadata>=0.20; python_version < \"3.8\"->catalogue<1.1.0,>=0.0.7->spacy) (3.4.0)\n",
            "Requirement already satisfied: typing-extensions>=3.6.4; python_version < \"3.8\" in /usr/local/lib/python3.7/dist-packages (from importlib-metadata>=0.20; python_version < \"3.8\"->catalogue<1.1.0,>=0.0.7->spacy) (3.7.4.3)\n"
          ],
          "name": "stdout"
        }
      ]
    },
    {
      "cell_type": "code",
      "metadata": {
        "id": "M7wu5XrHaBs9"
      },
      "source": [
        "import spacy\n",
        "from spacy.lang.en.stop_words import STOP_WORDS\n",
        "from string import punctuation"
      ],
      "execution_count": null,
      "outputs": []
    },
    {
      "cell_type": "code",
      "metadata": {
        "id": "6yvwpfCpal8s"
      },
      "source": [
        "stopwords=list(STOP_WORDS)"
      ],
      "execution_count": null,
      "outputs": []
    },
    {
      "cell_type": "code",
      "metadata": {
        "colab": {
          "base_uri": "https://localhost:8080/",
          "height": 35
        },
        "id": "ILaiuyVZan9F",
        "outputId": "00744d83-73d7-4f79-d00b-71a26433ac00"
      },
      "source": [
        "punctuation"
      ],
      "execution_count": null,
      "outputs": [
        {
          "output_type": "execute_result",
          "data": {
            "application/vnd.google.colaboratory.intrinsic+json": {
              "type": "string"
            },
            "text/plain": [
              "'!\"#$%&\\'()*+,-./:;<=>?@[\\\\]^_`{|}~'"
            ]
          },
          "metadata": {
            "tags": []
          },
          "execution_count": 6
        }
      ]
    },
    {
      "cell_type": "code",
      "metadata": {
        "id": "e08ZepjcavS2"
      },
      "source": [
        "nlp=spacy.load('en_core_web_sm')"
      ],
      "execution_count": null,
      "outputs": []
    },
    {
      "cell_type": "code",
      "metadata": {
        "id": "RYE_ftnwa4Uo"
      },
      "source": [
        "init_text = \"\"\"\n",
        "Machine learning is a method of data analysis that automates analytical model building. It is a branch of artificial intelligence based on the idea that systems can learn from data, identify patterns and make decisions with minimal human intervention.\n",
        "Because of new computing technologies, machine learning today is not like machine learning of the past. It was born from pattern recognition and the theory that computers can learn without being programmed to perform specific tasks; researchers interested in artificial intelligence wanted to see if computers could learn from data. The iterative aspect of machine learning is important because as models are exposed to new data, they are able to independently adapt. They learn from previous computations to produce reliable, repeatable decisions and results. It’s a science that’s not new – but one that has gained fresh momentum.\n",
        "While many machine learning algorithms have been around for a long time, the ability to automatically apply complex mathematical calculations to big data – over and over, faster and faster – is a recent development. Here are a few widely publicized examples of machine learning applications you may be familiar with:\n",
        "The heavily hyped, self-driving Google car? The essence of machine learning.\n",
        "Online recommendation offers such as those from Amazon and Netflix? Machine learning applications for everyday life.\n",
        "Knowing what customers are saying about you on Twitter? Machine learning combined with linguistic rule creation.\n",
        "Fraud detection? One of the more obvious, important uses in our world today.\n",
        "While artificial intelligence (AI) is the broad science of mimicking human abilities, machine learning is a specific subset of AI that trains a machine how to learn. Watch this video to better understand the relationship between AI and machine learning. You'll see how these two technologies work, with useful examples and a few funny asides.\n",
        "\n",
        "\n",
        "\n",
        "\"\"\""
      ],
      "execution_count": null,
      "outputs": []
    },
    {
      "cell_type": "code",
      "metadata": {
        "colab": {
          "base_uri": "https://localhost:8080/"
        },
        "id": "7H9cyIIvbRRg",
        "outputId": "d8da38f0-e93c-47ac-f558-8b583671d58d"
      },
      "source": [
        "len(init_text)"
      ],
      "execution_count": null,
      "outputs": [
        {
          "output_type": "execute_result",
          "data": {
            "text/plain": [
              "1933"
            ]
          },
          "metadata": {
            "tags": []
          },
          "execution_count": 62
        }
      ]
    },
    {
      "cell_type": "code",
      "metadata": {
        "id": "haSPwLSXbS8s"
      },
      "source": [
        "doc=nlp(init_text)"
      ],
      "execution_count": null,
      "outputs": []
    },
    {
      "cell_type": "code",
      "metadata": {
        "colab": {
          "base_uri": "https://localhost:8080/"
        },
        "id": "IWj0s8pqb_8y",
        "outputId": "52150d59-cefb-4bad-a022-c5b20c624f62"
      },
      "source": [
        "print(doc)"
      ],
      "execution_count": null,
      "outputs": [
        {
          "output_type": "stream",
          "text": [
            "\n",
            "Machine learning is a method of data analysis that automates analytical model building. It is a branch of artificial intelligence based on the idea that systems can learn from data, identify patterns and make decisions with minimal human intervention.\n",
            "Because of new computing technologies, machine learning today is not like machine learning of the past. It was born from pattern recognition and the theory that computers can learn without being programmed to perform specific tasks; researchers interested in artificial intelligence wanted to see if computers could learn from data. The iterative aspect of machine learning is important because as models are exposed to new data, they are able to independently adapt. They learn from previous computations to produce reliable, repeatable decisions and results. It’s a science that’s not new – but one that has gained fresh momentum.\n",
            "While many machine learning algorithms have been around for a long time, the ability to automatically apply complex mathematical calculations to big data – over and over, faster and faster – is a recent development. Here are a few widely publicized examples of machine learning applications you may be familiar with:\n",
            "The heavily hyped, self-driving Google car? The essence of machine learning.\n",
            "Online recommendation offers such as those from Amazon and Netflix? Machine learning applications for everyday life.\n",
            "Knowing what customers are saying about you on Twitter? Machine learning combined with linguistic rule creation.\n",
            "Fraud detection? One of the more obvious, important uses in our world today.\n",
            "While artificial intelligence (AI) is the broad science of mimicking human abilities, machine learning is a specific subset of AI that trains a machine how to learn. Watch this video to better understand the relationship between AI and machine learning. You'll see how these two technologies work, with useful examples and a few funny asides.\n",
            "\n",
            "\n",
            "\n",
            "\n"
          ],
          "name": "stdout"
        }
      ]
    },
    {
      "cell_type": "code",
      "metadata": {
        "id": "IbWcanSBcApe"
      },
      "source": [
        "tokens=[token.text for token in doc]"
      ],
      "execution_count": null,
      "outputs": []
    },
    {
      "cell_type": "code",
      "metadata": {
        "colab": {
          "base_uri": "https://localhost:8080/"
        },
        "id": "xlFl4trrcTCy",
        "outputId": "efc95ca8-fc4b-488b-b792-7a387e43ec0e"
      },
      "source": [
        "print(tokens)"
      ],
      "execution_count": null,
      "outputs": [
        {
          "output_type": "stream",
          "text": [
            "['\\n', 'Machine', 'learning', 'is', 'a', 'method', 'of', 'data', 'analysis', 'that', 'automates', 'analytical', 'model', 'building', '.', 'It', 'is', 'a', 'branch', 'of', 'artificial', 'intelligence', 'based', 'on', 'the', 'idea', 'that', 'systems', 'can', 'learn', 'from', 'data', ',', 'identify', 'patterns', 'and', 'make', 'decisions', 'with', 'minimal', 'human', 'intervention', '.', '\\n', 'Because', 'of', 'new', 'computing', 'technologies', ',', 'machine', 'learning', 'today', 'is', 'not', 'like', 'machine', 'learning', 'of', 'the', 'past', '.', 'It', 'was', 'born', 'from', 'pattern', 'recognition', 'and', 'the', 'theory', 'that', 'computers', 'can', 'learn', 'without', 'being', 'programmed', 'to', 'perform', 'specific', 'tasks', ';', 'researchers', 'interested', 'in', 'artificial', 'intelligence', 'wanted', 'to', 'see', 'if', 'computers', 'could', 'learn', 'from', 'data', '.', 'The', 'iterative', 'aspect', 'of', 'machine', 'learning', 'is', 'important', 'because', 'as', 'models', 'are', 'exposed', 'to', 'new', 'data', ',', 'they', 'are', 'able', 'to', 'independently', 'adapt', '.', 'They', 'learn', 'from', 'previous', 'computations', 'to', 'produce', 'reliable', ',', 'repeatable', 'decisions', 'and', 'results', '.', 'It', '’s', 'a', 'science', 'that', '’s', 'not', 'new', '–', 'but', 'one', 'that', 'has', 'gained', 'fresh', 'momentum', '.', '\\n', 'While', 'many', 'machine', 'learning', 'algorithms', 'have', 'been', 'around', 'for', 'a', 'long', 'time', ',', 'the', 'ability', 'to', 'automatically', 'apply', 'complex', 'mathematical', 'calculations', 'to', 'big', 'data', '–', 'over', 'and', 'over', ',', 'faster', 'and', 'faster', '–', 'is', 'a', 'recent', 'development', '.', 'Here', 'are', 'a', 'few', 'widely', 'publicized', 'examples', 'of', 'machine', 'learning', 'applications', 'you', 'may', 'be', 'familiar', 'with', ':', '\\n', 'The', 'heavily', 'hyped', ',', 'self', '-', 'driving', 'Google', 'car', '?', 'The', 'essence', 'of', 'machine', 'learning', '.', '\\n', 'Online', 'recommendation', 'offers', 'such', 'as', 'those', 'from', 'Amazon', 'and', 'Netflix', '?', 'Machine', 'learning', 'applications', 'for', 'everyday', 'life', '.', '\\n', 'Knowing', 'what', 'customers', 'are', 'saying', 'about', 'you', 'on', 'Twitter', '?', 'Machine', 'learning', 'combined', 'with', 'linguistic', 'rule', 'creation', '.', '\\n', 'Fraud', 'detection', '?', 'One', 'of', 'the', 'more', 'obvious', ',', 'important', 'uses', 'in', 'our', 'world', 'today', '.', '\\n', 'While', 'artificial', 'intelligence', '(', 'AI', ')', 'is', 'the', 'broad', 'science', 'of', 'mimicking', 'human', 'abilities', ',', 'machine', 'learning', 'is', 'a', 'specific', 'subset', 'of', 'AI', 'that', 'trains', 'a', 'machine', 'how', 'to', 'learn', '.', 'Watch', 'this', 'video', 'to', 'better', 'understand', 'the', 'relationship', 'between', 'AI', 'and', 'machine', 'learning', '.', 'You', \"'ll\", 'see', 'how', 'these', 'two', 'technologies', 'work', ',', 'with', 'useful', 'examples', 'and', 'a', 'few', 'funny', 'asides', '.', '\\n\\n\\n\\n']\n"
          ],
          "name": "stdout"
        }
      ]
    },
    {
      "cell_type": "code",
      "metadata": {
        "id": "GmoBLRiCcn2p"
      },
      "source": [
        "punctuation=punctuation + '\\n'"
      ],
      "execution_count": null,
      "outputs": []
    },
    {
      "cell_type": "code",
      "metadata": {
        "colab": {
          "base_uri": "https://localhost:8080/",
          "height": 35
        },
        "id": "lFfVT6DLc7HE",
        "outputId": "a15cc5ec-56af-4b42-9867-74d3042450e4"
      },
      "source": [
        "punctuation"
      ],
      "execution_count": null,
      "outputs": [
        {
          "output_type": "execute_result",
          "data": {
            "application/vnd.google.colaboratory.intrinsic+json": {
              "type": "string"
            },
            "text/plain": [
              "'!\"#$%&\\'()*+,-./:;<=>?@[\\\\]^_`{|}~\\n\\n'"
            ]
          },
          "metadata": {
            "tags": []
          },
          "execution_count": 68
        }
      ]
    },
    {
      "cell_type": "code",
      "metadata": {
        "id": "AkQvqG8mc875"
      },
      "source": [
        "word_frequencies={}\n",
        "for word in doc:\n",
        "  if word.text.lower() not in stopwords:\n",
        "    if word.text.lower() not in punctuation:\n",
        "      if word.text not in word_frequencies.keys():\n",
        "        word_frequencies[word.text]=1\n",
        "      else:\n",
        "        word_frequencies[word.text] +=1\n",
        "\n"
      ],
      "execution_count": null,
      "outputs": []
    },
    {
      "cell_type": "code",
      "metadata": {
        "colab": {
          "base_uri": "https://localhost:8080/"
        },
        "id": "gVN70pDpdtoa",
        "outputId": "5af66ce3-f0b6-4a01-b05a-50b36933d6f9"
      },
      "source": [
        "print(word_frequencies)"
      ],
      "execution_count": null,
      "outputs": [
        {
          "output_type": "stream",
          "text": [
            "{'Machine': 3, 'learning': 11, 'method': 1, 'data': 5, 'analysis': 1, 'automates': 1, 'analytical': 1, 'model': 1, 'building': 1, 'branch': 1, 'artificial': 3, 'intelligence': 3, 'based': 1, 'idea': 1, 'systems': 1, 'learn': 5, 'identify': 1, 'patterns': 1, 'decisions': 2, 'minimal': 1, 'human': 2, 'intervention': 1, 'new': 3, 'computing': 1, 'technologies': 2, 'machine': 9, 'today': 2, 'like': 1, 'past': 1, 'born': 1, 'pattern': 1, 'recognition': 1, 'theory': 1, 'computers': 2, 'programmed': 1, 'perform': 1, 'specific': 2, 'tasks': 1, 'researchers': 1, 'interested': 1, 'wanted': 1, 'iterative': 1, 'aspect': 1, 'important': 2, 'models': 1, 'exposed': 1, 'able': 1, 'independently': 1, 'adapt': 1, 'previous': 1, 'computations': 1, 'produce': 1, 'reliable': 1, 'repeatable': 1, 'results': 1, 'science': 2, '–': 3, 'gained': 1, 'fresh': 1, 'momentum': 1, 'algorithms': 1, 'long': 1, 'time': 1, 'ability': 1, 'automatically': 1, 'apply': 1, 'complex': 1, 'mathematical': 1, 'calculations': 1, 'big': 1, 'faster': 2, 'recent': 1, 'development': 1, 'widely': 1, 'publicized': 1, 'examples': 2, 'applications': 2, 'familiar': 1, 'heavily': 1, 'hyped': 1, 'self': 1, 'driving': 1, 'Google': 1, 'car': 1, 'essence': 1, 'Online': 1, 'recommendation': 1, 'offers': 1, 'Amazon': 1, 'Netflix': 1, 'everyday': 1, 'life': 1, 'Knowing': 1, 'customers': 1, 'saying': 1, 'Twitter': 1, 'combined': 1, 'linguistic': 1, 'rule': 1, 'creation': 1, 'Fraud': 1, 'detection': 1, 'obvious': 1, 'uses': 1, 'world': 1, 'AI': 3, 'broad': 1, 'mimicking': 1, 'abilities': 1, 'subset': 1, 'trains': 1, 'Watch': 1, 'video': 1, 'better': 1, 'understand': 1, 'relationship': 1, 'work': 1, 'useful': 1, 'funny': 1, 'asides': 1, '\\n\\n\\n\\n': 1}\n"
          ],
          "name": "stdout"
        }
      ]
    },
    {
      "cell_type": "code",
      "metadata": {
        "id": "Ps-ISK8weZaV"
      },
      "source": [
        "max_freq=max(word_frequencies.values())"
      ],
      "execution_count": null,
      "outputs": []
    },
    {
      "cell_type": "code",
      "metadata": {
        "colab": {
          "base_uri": "https://localhost:8080/"
        },
        "id": "yiGIdyXAemml",
        "outputId": "dfebe8e5-a2f0-4ec0-dc76-5270dfec3d47"
      },
      "source": [
        "max_freq"
      ],
      "execution_count": null,
      "outputs": [
        {
          "output_type": "execute_result",
          "data": {
            "text/plain": [
              "11"
            ]
          },
          "metadata": {
            "tags": []
          },
          "execution_count": 72
        }
      ]
    },
    {
      "cell_type": "code",
      "metadata": {
        "id": "JcT6xljieoDv"
      },
      "source": [
        "for word in word_frequencies.keys():\n",
        "  word_frequencies[word]=(word_frequencies[word])/max_freq"
      ],
      "execution_count": null,
      "outputs": []
    },
    {
      "cell_type": "code",
      "metadata": {
        "colab": {
          "base_uri": "https://localhost:8080/"
        },
        "id": "WlqjCIdne4Cf",
        "outputId": "f53cf4ba-f256-44ca-9f47-b282c028c4e7"
      },
      "source": [
        "print(word_frequencies)"
      ],
      "execution_count": null,
      "outputs": [
        {
          "output_type": "stream",
          "text": [
            "{'Machine': 0.2727272727272727, 'learning': 1.0, 'method': 0.09090909090909091, 'data': 0.45454545454545453, 'analysis': 0.09090909090909091, 'automates': 0.09090909090909091, 'analytical': 0.09090909090909091, 'model': 0.09090909090909091, 'building': 0.09090909090909091, 'branch': 0.09090909090909091, 'artificial': 0.2727272727272727, 'intelligence': 0.2727272727272727, 'based': 0.09090909090909091, 'idea': 0.09090909090909091, 'systems': 0.09090909090909091, 'learn': 0.45454545454545453, 'identify': 0.09090909090909091, 'patterns': 0.09090909090909091, 'decisions': 0.18181818181818182, 'minimal': 0.09090909090909091, 'human': 0.18181818181818182, 'intervention': 0.09090909090909091, 'new': 0.2727272727272727, 'computing': 0.09090909090909091, 'technologies': 0.18181818181818182, 'machine': 0.8181818181818182, 'today': 0.18181818181818182, 'like': 0.09090909090909091, 'past': 0.09090909090909091, 'born': 0.09090909090909091, 'pattern': 0.09090909090909091, 'recognition': 0.09090909090909091, 'theory': 0.09090909090909091, 'computers': 0.18181818181818182, 'programmed': 0.09090909090909091, 'perform': 0.09090909090909091, 'specific': 0.18181818181818182, 'tasks': 0.09090909090909091, 'researchers': 0.09090909090909091, 'interested': 0.09090909090909091, 'wanted': 0.09090909090909091, 'iterative': 0.09090909090909091, 'aspect': 0.09090909090909091, 'important': 0.18181818181818182, 'models': 0.09090909090909091, 'exposed': 0.09090909090909091, 'able': 0.09090909090909091, 'independently': 0.09090909090909091, 'adapt': 0.09090909090909091, 'previous': 0.09090909090909091, 'computations': 0.09090909090909091, 'produce': 0.09090909090909091, 'reliable': 0.09090909090909091, 'repeatable': 0.09090909090909091, 'results': 0.09090909090909091, 'science': 0.18181818181818182, '–': 0.2727272727272727, 'gained': 0.09090909090909091, 'fresh': 0.09090909090909091, 'momentum': 0.09090909090909091, 'algorithms': 0.09090909090909091, 'long': 0.09090909090909091, 'time': 0.09090909090909091, 'ability': 0.09090909090909091, 'automatically': 0.09090909090909091, 'apply': 0.09090909090909091, 'complex': 0.09090909090909091, 'mathematical': 0.09090909090909091, 'calculations': 0.09090909090909091, 'big': 0.09090909090909091, 'faster': 0.18181818181818182, 'recent': 0.09090909090909091, 'development': 0.09090909090909091, 'widely': 0.09090909090909091, 'publicized': 0.09090909090909091, 'examples': 0.18181818181818182, 'applications': 0.18181818181818182, 'familiar': 0.09090909090909091, 'heavily': 0.09090909090909091, 'hyped': 0.09090909090909091, 'self': 0.09090909090909091, 'driving': 0.09090909090909091, 'Google': 0.09090909090909091, 'car': 0.09090909090909091, 'essence': 0.09090909090909091, 'Online': 0.09090909090909091, 'recommendation': 0.09090909090909091, 'offers': 0.09090909090909091, 'Amazon': 0.09090909090909091, 'Netflix': 0.09090909090909091, 'everyday': 0.09090909090909091, 'life': 0.09090909090909091, 'Knowing': 0.09090909090909091, 'customers': 0.09090909090909091, 'saying': 0.09090909090909091, 'Twitter': 0.09090909090909091, 'combined': 0.09090909090909091, 'linguistic': 0.09090909090909091, 'rule': 0.09090909090909091, 'creation': 0.09090909090909091, 'Fraud': 0.09090909090909091, 'detection': 0.09090909090909091, 'obvious': 0.09090909090909091, 'uses': 0.09090909090909091, 'world': 0.09090909090909091, 'AI': 0.2727272727272727, 'broad': 0.09090909090909091, 'mimicking': 0.09090909090909091, 'abilities': 0.09090909090909091, 'subset': 0.09090909090909091, 'trains': 0.09090909090909091, 'Watch': 0.09090909090909091, 'video': 0.09090909090909091, 'better': 0.09090909090909091, 'understand': 0.09090909090909091, 'relationship': 0.09090909090909091, 'work': 0.09090909090909091, 'useful': 0.09090909090909091, 'funny': 0.09090909090909091, 'asides': 0.09090909090909091, '\\n\\n\\n\\n': 0.09090909090909091}\n"
          ],
          "name": "stdout"
        }
      ]
    },
    {
      "cell_type": "code",
      "metadata": {
        "id": "EVZ9XfG4e5vI"
      },
      "source": [
        "sent_token=[sent for sent in doc.sents]"
      ],
      "execution_count": null,
      "outputs": []
    },
    {
      "cell_type": "code",
      "metadata": {
        "colab": {
          "base_uri": "https://localhost:8080/"
        },
        "id": "qY_AODPJfH26",
        "outputId": "4a0b5088-0128-48b0-fcc8-870db9822084"
      },
      "source": [
        "print(sent_token)"
      ],
      "execution_count": null,
      "outputs": [
        {
          "output_type": "stream",
          "text": [
            "[\n",
            "Machine learning is a method of data analysis that automates analytical model building., It is a branch of artificial intelligence based on the idea that systems can learn from data, identify patterns and make decisions with minimal human intervention.\n",
            ", Because of new computing technologies, machine learning today is not like machine learning of the past., It was born from pattern recognition and the theory that computers can learn without being programmed to perform specific tasks; researchers interested in artificial intelligence wanted to see if computers could learn from data., The iterative aspect of machine learning is important because as models are exposed to new data, they are able to independently adapt., They learn from previous computations to produce reliable, repeatable decisions and results., It’s a science that’s not new – but one that has gained fresh momentum.\n",
            ", While many machine learning algorithms have been around for a long time, the ability to automatically apply complex mathematical calculations to big data – over and over, faster and faster – is a recent development., Here are a few widely publicized examples of machine learning applications you may be familiar with:\n",
            "The heavily hyped, self-driving Google car?, The essence of machine learning.\n",
            ", Online recommendation offers such as those from Amazon and Netflix?, Machine learning applications for everyday life.\n",
            ", Knowing what customers are saying about you on Twitter?, Machine learning combined with linguistic rule creation.\n",
            ", Fraud detection?, One of the more obvious, important uses in our world today.\n",
            ", While artificial intelligence (AI) is the broad science of mimicking human abilities, machine learning is a specific subset of AI that trains a machine how to learn., Watch this video to better understand the relationship between AI and machine learning., You'll see how these two technologies work, with useful examples and a few funny asides.\n",
            "\n",
            "\n",
            "\n",
            "]\n"
          ],
          "name": "stdout"
        }
      ]
    },
    {
      "cell_type": "code",
      "metadata": {
        "id": "pG3xmrhMfKQc"
      },
      "source": [
        "sentence_score={}\n",
        "for sent in sent_token:\n",
        "  for word in sent:\n",
        "    if word.text.lower() in word_frequencies.keys():\n",
        "      if sent not in sentence_score.keys():\n",
        "        sentence_score[sent]=word_frequencies[word.text.lower()]\n",
        "      else:\n",
        "        sentence_score[sent]+=word_frequencies[word.text.lower()]\n",
        "\n"
      ],
      "execution_count": null,
      "outputs": []
    },
    {
      "cell_type": "code",
      "metadata": {
        "colab": {
          "base_uri": "https://localhost:8080/"
        },
        "id": "21JUCmvVgPR7",
        "outputId": "e6e604a8-f483-4d36-8771-b9fed192eb3c"
      },
      "source": [
        "sentence_score"
      ],
      "execution_count": null,
      "outputs": [
        {
          "output_type": "execute_result",
          "data": {
            "text/plain": [
              "{\n",
              " Machine learning is a method of data analysis that automates analytical model building.: 2.818181818181818,\n",
              " It is a branch of artificial intelligence based on the idea that systems can learn from data, identify patterns and make decisions with minimal human intervention.: 2.545454545454545,\n",
              " Because of new computing technologies, machine learning today is not like machine learning of the past.: 4.545454545454546,\n",
              " It was born from pattern recognition and the theory that computers can learn without being programmed to perform specific tasks; researchers interested in artificial intelligence wanted to see if computers could learn from data.: 3.3636363636363633,\n",
              " The iterative aspect of machine learning is important because as models are exposed to new data, they are able to independently adapt.: 3.363636363636363,\n",
              " They learn from previous computations to produce reliable, repeatable decisions and results.: 1.1818181818181819,\n",
              " It’s a science that’s not new – but one that has gained fresh momentum.: 1.0,\n",
              " While many machine learning algorithms have been around for a long time, the ability to automatically apply complex mathematical calculations to big data – over and over, faster and faster – is a recent development.: 4.272727272727272,\n",
              " Here are a few widely publicized examples of machine learning applications you may be familiar with:\n",
              " The heavily hyped, self-driving Google car?: 2.9090909090909083,\n",
              " The essence of machine learning.: 1.9090909090909092,\n",
              " Online recommendation offers such as those from Amazon and Netflix?: 0.18181818181818182,\n",
              " Machine learning applications for everyday life.: 2.1818181818181817,\n",
              " Knowing what customers are saying about you on Twitter?: 0.18181818181818182,\n",
              " Machine learning combined with linguistic rule creation.: 2.1818181818181817,\n",
              " Fraud detection?: 0.09090909090909091,\n",
              " One of the more obvious, important uses in our world today.: 0.6363636363636365,\n",
              " While artificial intelligence (AI) is the broad science of mimicking human abilities, machine learning is a specific subset of AI that trains a machine how to learn.: 4.636363636363636,\n",
              " Watch this video to better understand the relationship between AI and machine learning.: 2.1818181818181817,\n",
              " You'll see how these two technologies work, with useful examples and a few funny asides.\n",
              " \n",
              " \n",
              " : 0.8181818181818182}"
            ]
          },
          "metadata": {
            "tags": []
          },
          "execution_count": 78
        }
      ]
    },
    {
      "cell_type": "code",
      "metadata": {
        "id": "OgeimcCugQhB"
      },
      "source": [
        "from heapq import nlargest"
      ],
      "execution_count": null,
      "outputs": []
    },
    {
      "cell_type": "code",
      "metadata": {
        "id": "1ltfQUnegWxO"
      },
      "source": [
        "length=int(len(sent_token)*0.3)"
      ],
      "execution_count": null,
      "outputs": []
    },
    {
      "cell_type": "code",
      "metadata": {
        "colab": {
          "base_uri": "https://localhost:8080/"
        },
        "id": "hSJMh47sgfQI",
        "outputId": "97a93b71-c368-46ee-b97a-372976c89fc5"
      },
      "source": [
        "length"
      ],
      "execution_count": null,
      "outputs": [
        {
          "output_type": "execute_result",
          "data": {
            "text/plain": [
              "5"
            ]
          },
          "metadata": {
            "tags": []
          },
          "execution_count": 81
        }
      ]
    },
    {
      "cell_type": "code",
      "metadata": {
        "id": "JZzsKl0aggJS"
      },
      "source": [
        "summary=nlargest(length,sentence_score,key=sentence_score.get)"
      ],
      "execution_count": null,
      "outputs": []
    },
    {
      "cell_type": "code",
      "metadata": {
        "colab": {
          "base_uri": "https://localhost:8080/"
        },
        "id": "90b3AJeJgpaA",
        "outputId": "3019fb89-8edb-47d3-e7d5-cd9b0ac0c2d7"
      },
      "source": [
        "summary"
      ],
      "execution_count": null,
      "outputs": [
        {
          "output_type": "execute_result",
          "data": {
            "text/plain": [
              "[While artificial intelligence (AI) is the broad science of mimicking human abilities, machine learning is a specific subset of AI that trains a machine how to learn.,\n",
              " Because of new computing technologies, machine learning today is not like machine learning of the past.,\n",
              " While many machine learning algorithms have been around for a long time, the ability to automatically apply complex mathematical calculations to big data – over and over, faster and faster – is a recent development.,\n",
              " It was born from pattern recognition and the theory that computers can learn without being programmed to perform specific tasks; researchers interested in artificial intelligence wanted to see if computers could learn from data.,\n",
              " The iterative aspect of machine learning is important because as models are exposed to new data, they are able to independently adapt.]"
            ]
          },
          "metadata": {
            "tags": []
          },
          "execution_count": 83
        }
      ]
    },
    {
      "cell_type": "code",
      "metadata": {
        "id": "jc3wQi4Tgtuv"
      },
      "source": [
        "final_summary=[t.text for t in summary]"
      ],
      "execution_count": null,
      "outputs": []
    },
    {
      "cell_type": "code",
      "metadata": {
        "id": "jQPwQtiyg3tU"
      },
      "source": [
        "summary=' '.join(final_summary)"
      ],
      "execution_count": null,
      "outputs": []
    },
    {
      "cell_type": "code",
      "metadata": {
        "colab": {
          "base_uri": "https://localhost:8080/"
        },
        "id": "AJ6-dF8_g-PO",
        "outputId": "2c62ad32-0eb7-4ae4-a66e-80066359033c"
      },
      "source": [
        "print(summary)"
      ],
      "execution_count": null,
      "outputs": [
        {
          "output_type": "stream",
          "text": [
            "An example of a summarization problem is document summarization, which attempts to automatically produce an abstract from a given document. The first is generic summarization, which focuses on obtaining a generic summary or abstract of the collection (whether documents, or sets of images, or videos, news stories etc.). The second is query relevant summarization, sometimes called query-based summarization, which summarizes objects specific to a query. Summarization systems are able to create both query relevant text summaries and generic machine-generated summaries depending on what the user needs.\n",
            "\n"
          ],
          "name": "stdout"
        }
      ]
    },
    {
      "cell_type": "code",
      "metadata": {
        "colab": {
          "base_uri": "https://localhost:8080/"
        },
        "id": "bDZKSZT4g_Qk",
        "outputId": "61329b9e-4618-45f0-ad02-62435e0236d5"
      },
      "source": [
        "len(summary)"
      ],
      "execution_count": null,
      "outputs": [
        {
          "output_type": "execute_result",
          "data": {
            "text/plain": [
              "605"
            ]
          },
          "metadata": {
            "tags": []
          },
          "execution_count": 59
        }
      ]
    },
    {
      "cell_type": "code",
      "metadata": {
        "colab": {
          "base_uri": "https://localhost:8080/"
        },
        "id": "qoORcWRchFMX",
        "outputId": "7a4b1538-1d70-4b68-f9c6-2a64d5f2131d"
      },
      "source": [
        "len(init_text)"
      ],
      "execution_count": null,
      "outputs": [
        {
          "output_type": "execute_result",
          "data": {
            "text/plain": [
              "1869"
            ]
          },
          "metadata": {
            "tags": []
          },
          "execution_count": 60
        }
      ]
    },
    {
      "cell_type": "code",
      "metadata": {
        "id": "40jqEQjVhHmY"
      },
      "source": [
        ""
      ],
      "execution_count": null,
      "outputs": []
    }
  ]
}